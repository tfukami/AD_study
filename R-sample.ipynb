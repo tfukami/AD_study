{
 "cells": [
  {
   "cell_type": "code",
   "execution_count": 1,
   "metadata": {
    "collapsed": true
   },
   "outputs": [],
   "source": [
    "import numpy as np\n",
    "import pandas as pd\n",
    "import pyper as pr\n",
    "import matplotlib.pyplot as plt\n",
    "%matplotlib inline"
   ]
  },
  {
   "cell_type": "code",
   "execution_count": 2,
   "metadata": {
    "collapsed": true
   },
   "outputs": [],
   "source": [
    "r = pr.R(use_numpy='True', use_pandas='True')"
   ]
  },
  {
   "cell_type": "code",
   "execution_count": 3,
   "metadata": {},
   "outputs": [
    {
     "data": {
      "text/plain": [
       "'try({data(tuna)})\\n'"
      ]
     },
     "execution_count": 3,
     "metadata": {},
     "output_type": "execute_result"
    }
   ],
   "source": [
    "r(\"library(lars)\")\n",
    "r(\"library(bayesm)\")\n",
    "r(\"data(tuna)\")"
   ]
  },
  {
   "cell_type": "code",
   "execution_count": 4,
   "metadata": {
    "scrolled": true
   },
   "outputs": [
    {
     "name": "stdout",
     "output_type": "stream",
     "text": [
      "try({fit$beta})\n",
      "     LPRICE1   LPRICE2     LPRICE3   LPRICE4    LPRICE5    LPRICE6    LPRICE7\n",
      "0   0.000000 0.0000000  0.00000000 0.0000000 0.00000000  0.0000000 0.00000000\n",
      "1  -2.969491 0.0000000  0.00000000 0.0000000 0.00000000  0.0000000 0.00000000\n",
      "2  -3.343254 0.0000000  0.00000000 0.3254430 0.00000000  0.0000000 0.00000000\n",
      "3  -3.738107 0.2662838  0.00000000 0.6278782 0.00000000  0.0000000 0.00000000\n",
      "4  -3.805780 0.3103187  0.00000000 0.6821864 0.00000000  0.0000000 0.06329192\n",
      "5  -3.850711 0.3346836  0.00000000 0.7131991 0.07183444  0.0000000 0.10046121\n",
      "6  -3.922872 0.3818979  0.00000000 0.7711945 0.21490262  0.0000000 0.17368176\n",
      "7  -4.064455 0.4887216  0.00000000 0.8974501 0.48919463  0.0000000 0.32391581\n",
      "8  -4.101989 0.5013076  0.00000000 0.9343871 0.56910416  0.0000000 0.36465155\n",
      "9  -4.136548 0.5168997  0.00000000 0.9729673 0.64490371 -0.3415463 0.39236597\n",
      "10 -4.177995 0.5381219  0.00000000 1.0097763 0.73083304 -0.7284108 0.42379769\n",
      "11 -4.242534 0.5722552 -0.13613116 1.0691811 0.86696698 -1.2765060 0.46508035\n",
      "12 -4.265751 0.5851744 -0.17195682 1.0938997 0.91513386 -1.4525880 0.51773556\n",
      "13 -4.272553 0.5892158 -0.16048144 1.1022040 0.93048542 -1.5136769 0.53506125\n",
      "14 -4.287256 0.5984315 -0.11929062 1.1212767 1.07589372 -1.7171095 0.57319653\n",
      "15 -4.299055 0.6050700 -0.08518109 1.1354306 1.18924011 -1.8853414 0.60447930\n",
      "        NSALE1       NSALE2      NSALE3       NSALE4     NSALE5      NSALE6\n",
      "0  0.000000000  0.000000000 0.000000000  0.000000000 0.00000000  0.00000000\n",
      "1  0.000000000  0.000000000 0.000000000  0.000000000 0.00000000  0.00000000\n",
      "2  0.000000000  0.000000000 0.000000000  0.000000000 0.00000000  0.00000000\n",
      "3  0.000000000  0.000000000 0.000000000  0.000000000 0.00000000  0.00000000\n",
      "4  0.000000000  0.000000000 0.000000000  0.000000000 0.00000000  0.00000000\n",
      "5  0.000000000  0.000000000 0.000000000  0.000000000 0.00000000  0.00000000\n",
      "6  0.008357286  0.000000000 0.000000000  0.000000000 0.00000000  0.00000000\n",
      "7  0.032280628  0.000000000 0.000000000  0.000000000 0.00000000 -0.04094222\n",
      "8  0.039517721 -0.009228542 0.000000000  0.000000000 0.00000000 -0.05229681\n",
      "9  0.045018872 -0.017623966 0.000000000  0.000000000 0.00000000 -0.07628927\n",
      "10 0.051233009 -0.027181037 0.000000000 -0.006332497 0.00000000 -0.10367144\n",
      "11 0.061388110 -0.043387097 0.000000000 -0.016194253 0.00000000 -0.14842098\n",
      "12 0.063901235 -0.047275937 0.000000000 -0.018842320 0.00000000 -0.16245793\n",
      "13 0.064568243 -0.048882900 0.003673322 -0.020532907 0.00000000 -0.16770933\n",
      "14 0.067811639 -0.053005390 0.011866546 -0.025176696 0.01622149 -0.18442996\n",
      "15 0.070559274 -0.056420732 0.018567739 -0.029250704 0.02886496 -0.19801686\n",
      "       NSALE7 log(tuna[, 30])\n",
      "0  0.00000000     0.000000000\n",
      "1  0.00000000     0.000000000\n",
      "2  0.00000000     0.000000000\n",
      "3  0.00000000     0.000000000\n",
      "4  0.00000000     0.000000000\n",
      "5  0.00000000     0.000000000\n",
      "6  0.00000000     0.000000000\n",
      "7  0.00000000     0.000000000\n",
      "8  0.00000000     0.000000000\n",
      "9  0.00000000     0.000000000\n",
      "10 0.00000000     0.000000000\n",
      "11 0.00000000     0.000000000\n",
      "12 0.01856134     0.000000000\n",
      "13 0.02423369     0.000000000\n",
      "14 0.03642079     0.000000000\n",
      "15 0.04614254    -0.007858899\n",
      "attr(,\"scaled:scale\")\n",
      " [1] 2.4693143 2.3631642 0.8399267 2.8359439 0.8660781 0.4886528 1.9012433\n",
      " [8] 7.1407754 7.4408479 7.5967087 6.3885371 8.1720665 7.5126397 6.6817353\n",
      "[15] 1.8237796\n",
      "\n",
      "try({lambda})\n",
      " [1] 9.68109868 2.34849223 1.70593736 1.05596188 0.94672714 0.87967194\n",
      " [7] 0.74869840 0.47468593 0.39969222 0.32761305 0.24378355 0.11063094\n",
      "[13] 0.07027663 0.05745795 0.02569120\n",
      "\n"
     ]
    }
   ],
   "source": [
    "r(\"x <- as.matrix(cbind(tuna[,16:22], tuna[,9:15], log(tuna[,30])))\") #説明変数\n",
    "r(\"y <- log(tuna[,2])\") # Star Kist6オンスサイズの売り上げ\n",
    "r(\"fit <- lars(x, y, type='lasso')\") # lasso推定量\n",
    "r(\"lambda <- fit$lambda\") #使用された正則化パラーメータの値\n",
    "r(\"beta <- fit$beta\") #推定された回帰係数の値\n",
    "print(r(\"fit$beta\"))\n",
    "print(r(\"lambda\"))"
   ]
  },
  {
   "cell_type": "code",
   "execution_count": null,
   "metadata": {},
   "outputs": [],
   "source": [
    "r(\"p <- ncol(x)\")\n",
    "r(\"range.lam <- c(min(lambda), max(lambda))\")\n",
    "r(\"range.beta <- c(min(beta), max(beta))\")\n",
    "r(\"par(cex.lab=1.2)\")\n",
    "r(\"par(cex.axis=1.2)\")\n",
    "r(\"plot(range.lam, range.beta, xlab=expression(lambda), ylab='Estimated Coefficients', type='n')\")\n",
    "r(\"for(i in 1:p) {lines(lambda, beta[-1, i], pch=1, cex=0.5, type='p')}\")\n",
    "r(\"for(i in 1:p) {lines(lambda, beta[-1, i], lwd=2, lty=i, col=i)}\")"
   ]
  },
  {
   "cell_type": "code",
   "execution_count": null,
   "metadata": {
    "scrolled": true
   },
   "outputs": [],
   "source": [
    "print(r(\"source(file='ch2-01.r')\"))"
   ]
  },
  {
   "cell_type": "code",
   "execution_count": 10,
   "metadata": {
    "collapsed": true
   },
   "outputs": [],
   "source": [
    "lam = r.get(\"lambda\")\n",
    "beta = r.get(\"beta[-1,]\")\n",
    "beta2 = r.get(\"beta\")"
   ]
  },
  {
   "cell_type": "code",
   "execution_count": 23,
   "metadata": {
    "scrolled": true
   },
   "outputs": [
    {
     "name": "stdout",
     "output_type": "stream",
     "text": [
      "1.18924010653 -4.29905512556 9.68109867505 0.0256912012419\n"
     ]
    }
   ],
   "source": [
    "print(beta.max(), beta.min(), lam.max(), lam.min())"
   ]
  },
  {
   "cell_type": "code",
   "execution_count": 12,
   "metadata": {
    "scrolled": true
   },
   "outputs": [
    {
     "data": {
      "text/plain": [
       "16"
      ]
     },
     "execution_count": 12,
     "metadata": {},
     "output_type": "execute_result"
    }
   ],
   "source": [
    "len(beta2)"
   ]
  },
  {
   "cell_type": "code",
   "execution_count": 33,
   "metadata": {},
   "outputs": [
    {
     "data": {
      "image/png": "[encoded data removed]",
      "text/plain": [
       "<matplotlib.figure.Figure at 0x1108d3ac8>"
      ]
     },
     "metadata": {},
     "output_type": "display_data"
    }
   ],
   "source": [
    "for y in beta.T:\n",
    "    plt.plot(lam, y, marker='.')\n",
    "plt.title('lasso fig')\n",
    "plt.xlabel('λ')\n",
    "plt.ylabel('Estimated Coefficients')\n",
    "plt.grid(True)\n",
    "plt.show()"
   ]
  },
  {
   "cell_type": "code",
   "execution_count": null,
   "metadata": {
    "collapsed": true
   },
   "outputs": [],
   "source": []
  }
 ],
 "metadata": {
  "kernelspec": {
   "display_name": "Python 3",
   "language": "python",
   "name": "python3"
  },
  "language_info": {
   "codemirror_mode": {
    "name": "ipython",
    "version": 3
   },
   "file_extension": ".py",
   "mimetype": "text/x-python",
   "name": "python",
   "nbconvert_exporter": "python",
   "pygments_lexer": "ipython3",
   "version": "3.6.1"
  }
 },
 "nbformat": 4,
 "nbformat_minor": 2
}
