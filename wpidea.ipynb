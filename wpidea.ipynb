{
 "cells": [
  {
   "cell_type": "markdown",
   "metadata": {},
   "source": [
    "# WP project\n",
    "-------------------"
   ]
  },
  {
   "cell_type": "markdown",
   "metadata": {},
   "source": [
    "## summer event\n",
    "1. swim  \n",
    "1. obon  \n",
    "1. travel  \n",
    "1. beer garden  \n",
    "etc"
   ]
  },
  {
   "cell_type": "markdown",
   "metadata": {},
   "source": [
    "## cross fact  \n",
    "1. 電車の込み具合    \n",
    "1. 利用交通機関の比較　新幹線利用者の移動先での活動状況：平常時と比較  \n",
    "1. <font color=\"Red\">GW中の旅行者と夏休みの旅行者の傾向の違い　被り率　利用路線の違い</font>  \n",
    "1. 夏と比較　比較対象：GW、年末年始、春  \n",
    "1. <font color=\"Red\">お盆期間前後での都内交通機関の混雑度の違い　8月の各週の特徴の違いを可視化してみる  \n",
    "    お盆休みに利用が増える路線・減る路線  朝・昼・夜で路線分布の比較</font>  \n",
    "1. 空港利用者  \n",
    "1. 居住地と勤務地  \n",
    "1. 各新幹線利用者の居住地  \n",
    "1. 行動によるタイプ分類  \n",
    "  - 行った場所\n",
    "  - 移動量\n",
    "  - 移動時刻\n",
    "  - 行動範囲  \n",
    "\n",
    "1. 特定の拠点訪問者の特徴に注目\n",
    "  - 浜  \n",
    "  ※浜に行った人の軌跡みて何が面白い？  \n",
    "    +αで何か見せて面白くする：  \n",
    "    その日一日の行動  \n",
    "    別の時期と比較する  \n",
    "    <font color=\"Red\">浜間の違いを比較する：居住地の遠さ：平均、マックス、ミニマム</font>  \n",
    "    居住地からの平均・最大・最小距離は他のアイディアでも使えるんじゃ・・  \n",
    "  - beer garden  \n",
    "    ※beer gardenに行った人の何がわかると面白い？　次の日の行動開始時間？  \n",
    "    　beer gardenで夜遅くまで飲んだ人の次の日の行動開始時間\n",
    "  - summer time導入企業  \n",
    "\n",
    "<font color=\"Red\">**新幹線でお盆中に移動した人**</font>  \n",
    "- <font color=\"Red\">路線の比較：利用状況(uu数)、</font>  \n",
    "- <font color=\"Red\">東京駅を起点として、新幹線で移動した人のその日の総移動経路 地方への分散の様子</font>  \n",
    "- <font color=\"Red\">地方から東京駅への流入、東京駅から地方への流出の様子とかわかるんじゃろか・・新幹線regionを一定数以上踏んだ＋東京・品川がその前・後</font>  \n",
    "- <font color=\"Red\">お盆期間中に東京に流入した人の行動範囲 宿泊先・観光先</font>"
   ]
  },
  {
   "cell_type": "markdown",
   "metadata": {},
   "source": [
    "## 普遍に使えそうなアイディア  \n",
    "1. <font color=\"Blue\">居住地/勤務地との関係</font>  \n",
    "1. <font color=\"Blue\">同種別地点間での比較</font>  \n",
    "1. <font color=\"Blue\">時期の比較</font>  "
   ]
  },
  {
   "cell_type": "markdown",
   "metadata": {},
   "source": [
    "## 夏っぽい所、夏が関係する所  \n",
    "1. 花火\n",
    "1. 海水浴\n",
    "1. ビアガーデン\n",
    "1. 甲子園\n",
    "1. 帰省\n",
    "1. 旅行：飛行機　新幹線\n",
    "1. 夏フェス\n",
    "1. キャンプ\n",
    "\n",
    "## 夏っぽい時期\n",
    "1. お盆\n",
    "1. 夏休み\n",
    "1. summer time"
   ]
  },
  {
   "cell_type": "markdown",
   "metadata": {},
   "source": [
    "# Reference  \n",
    "[マークダウンのフォントカラー](http://qiita.com/twipg/items/d8043cd4681a2780c160)  \n",
    "[マークダウンのチートシート](http://qiita.com/Qiita/items/c686397e4a0f4f11683d)"
   ]
  },
  {
   "cell_type": "code",
   "execution_count": null,
   "metadata": {
    "collapsed": true
   },
   "outputs": [],
   "source": []
  }
 ],
 "metadata": {
  "kernelspec": {
   "display_name": "Python 3",
   "language": "python",
   "name": "python3"
  },
  "language_info": {
   "codemirror_mode": {
    "name": "ipython",
    "version": 3
   },
   "file_extension": ".py",
   "mimetype": "text/x-python",
   "name": "python",
   "nbconvert_exporter": "python",
   "pygments_lexer": "ipython3",
   "version": "3.5.2"
  }
 },
 "nbformat": 4,
 "nbformat_minor": 2
}
