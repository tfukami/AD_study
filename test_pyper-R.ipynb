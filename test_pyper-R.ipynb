{
 "cells": [
  {
   "cell_type": "code",
   "execution_count": 1,
   "metadata": {
    "collapsed": true
   },
   "outputs": [],
   "source": [
    "import numpy as np\n",
    "import pandas as pd\n",
    "import pyper as pr\n",
    "import matplotlib.pyplot as plt\n",
    "%matplotlib inline"
   ]
  },
  {
   "cell_type": "markdown",
   "metadata": {},
   "source": [
    "# extract data from DB to DataFrame\n",
    "- ここでDataFrameにデータ入れる\n",
    "- user_id, c_i1, c_i2, c_i3,,,"
   ]
  },
  {
   "cell_type": "code",
   "execution_count": 2,
   "metadata": {
    "collapsed": true
   },
   "outputs": [],
   "source": [
    "datum = np.loadtxt(\"women.tsv\", delimiter=\"\\t\", usecols=(1, 2), skiprows=1)\n",
    "weights = np.transpose(datum)[0]\n",
    "heights = np.transpose(datum)[1]\n",
    "y = np.array([0,0,0,0,0,0,0,1,1,1,1,1,1,1,1])"
   ]
  },
  {
   "cell_type": "code",
   "execution_count": 3,
   "metadata": {
    "scrolled": true
   },
   "outputs": [
    {
     "data": {
      "text/html": [
       "<div>\n",
       "<table border=\"1\" class=\"dataframe\">\n",
       "  <thead>\n",
       "    <tr style=\"text-align: right;\">\n",
       "      <th></th>\n",
       "      <th>weight</th>\n",
       "      <th>height</th>\n",
       "    </tr>\n",
       "    <tr>\n",
       "      <th>id</th>\n",
       "      <th></th>\n",
       "      <th></th>\n",
       "    </tr>\n",
       "  </thead>\n",
       "  <tbody>\n",
       "    <tr>\n",
       "      <th>1</th>\n",
       "      <td>58</td>\n",
       "      <td>115</td>\n",
       "    </tr>\n",
       "    <tr>\n",
       "      <th>2</th>\n",
       "      <td>59</td>\n",
       "      <td>117</td>\n",
       "    </tr>\n",
       "    <tr>\n",
       "      <th>3</th>\n",
       "      <td>60</td>\n",
       "      <td>120</td>\n",
       "    </tr>\n",
       "    <tr>\n",
       "      <th>4</th>\n",
       "      <td>61</td>\n",
       "      <td>123</td>\n",
       "    </tr>\n",
       "    <tr>\n",
       "      <th>5</th>\n",
       "      <td>62</td>\n",
       "      <td>126</td>\n",
       "    </tr>\n",
       "    <tr>\n",
       "      <th>6</th>\n",
       "      <td>63</td>\n",
       "      <td>129</td>\n",
       "    </tr>\n",
       "    <tr>\n",
       "      <th>7</th>\n",
       "      <td>64</td>\n",
       "      <td>132</td>\n",
       "    </tr>\n",
       "    <tr>\n",
       "      <th>8</th>\n",
       "      <td>65</td>\n",
       "      <td>135</td>\n",
       "    </tr>\n",
       "    <tr>\n",
       "      <th>9</th>\n",
       "      <td>66</td>\n",
       "      <td>139</td>\n",
       "    </tr>\n",
       "    <tr>\n",
       "      <th>10</th>\n",
       "      <td>67</td>\n",
       "      <td>142</td>\n",
       "    </tr>\n",
       "    <tr>\n",
       "      <th>11</th>\n",
       "      <td>68</td>\n",
       "      <td>146</td>\n",
       "    </tr>\n",
       "    <tr>\n",
       "      <th>12</th>\n",
       "      <td>69</td>\n",
       "      <td>150</td>\n",
       "    </tr>\n",
       "    <tr>\n",
       "      <th>13</th>\n",
       "      <td>70</td>\n",
       "      <td>154</td>\n",
       "    </tr>\n",
       "    <tr>\n",
       "      <th>14</th>\n",
       "      <td>71</td>\n",
       "      <td>159</td>\n",
       "    </tr>\n",
       "    <tr>\n",
       "      <th>15</th>\n",
       "      <td>72</td>\n",
       "      <td>164</td>\n",
       "    </tr>\n",
       "  </tbody>\n",
       "</table>\n",
       "</div>"
      ],
      "text/plain": [
       "    weight  height\n",
       "id                \n",
       "1       58     115\n",
       "2       59     117\n",
       "3       60     120\n",
       "4       61     123\n",
       "5       62     126\n",
       "6       63     129\n",
       "7       64     132\n",
       "8       65     135\n",
       "9       66     139\n",
       "10      67     142\n",
       "11      68     146\n",
       "12      69     150\n",
       "13      70     154\n",
       "14      71     159\n",
       "15      72     164"
      ]
     },
     "execution_count": 3,
     "metadata": {},
     "output_type": "execute_result"
    }
   ],
   "source": [
    "df = pd.read_csv(\"women.tsv\", sep=\"\\t\").reset_index().rename(columns={\"level_0\":\"id\", \"level_1\":\"weight\", \"id  height  weight\":\"height\"}).set_index(\"id\")\n",
    "df"
   ]
  },
  {
   "cell_type": "code",
   "execution_count": 4,
   "metadata": {
    "scrolled": true
   },
   "outputs": [
    {
     "data": {
      "text/html": [
       "<div>\n",
       "<table border=\"1\" class=\"dataframe\">\n",
       "  <thead>\n",
       "    <tr style=\"text-align: right;\">\n",
       "      <th></th>\n",
       "      <th>w</th>\n",
       "      <th>h</th>\n",
       "      <th>w2</th>\n",
       "      <th>h2</th>\n",
       "    </tr>\n",
       "    <tr>\n",
       "      <th>id</th>\n",
       "      <th></th>\n",
       "      <th></th>\n",
       "      <th></th>\n",
       "      <th></th>\n",
       "    </tr>\n",
       "  </thead>\n",
       "  <tbody>\n",
       "    <tr>\n",
       "      <th>1</th>\n",
       "      <td>58</td>\n",
       "      <td>115</td>\n",
       "      <td>116</td>\n",
       "      <td>105</td>\n",
       "    </tr>\n",
       "    <tr>\n",
       "      <th>2</th>\n",
       "      <td>59</td>\n",
       "      <td>117</td>\n",
       "      <td>118</td>\n",
       "      <td>107</td>\n",
       "    </tr>\n",
       "    <tr>\n",
       "      <th>3</th>\n",
       "      <td>60</td>\n",
       "      <td>120</td>\n",
       "      <td>120</td>\n",
       "      <td>110</td>\n",
       "    </tr>\n",
       "    <tr>\n",
       "      <th>4</th>\n",
       "      <td>61</td>\n",
       "      <td>123</td>\n",
       "      <td>122</td>\n",
       "      <td>113</td>\n",
       "    </tr>\n",
       "    <tr>\n",
       "      <th>5</th>\n",
       "      <td>62</td>\n",
       "      <td>126</td>\n",
       "      <td>124</td>\n",
       "      <td>116</td>\n",
       "    </tr>\n",
       "    <tr>\n",
       "      <th>6</th>\n",
       "      <td>63</td>\n",
       "      <td>129</td>\n",
       "      <td>126</td>\n",
       "      <td>119</td>\n",
       "    </tr>\n",
       "    <tr>\n",
       "      <th>7</th>\n",
       "      <td>64</td>\n",
       "      <td>132</td>\n",
       "      <td>128</td>\n",
       "      <td>122</td>\n",
       "    </tr>\n",
       "    <tr>\n",
       "      <th>8</th>\n",
       "      <td>65</td>\n",
       "      <td>135</td>\n",
       "      <td>130</td>\n",
       "      <td>125</td>\n",
       "    </tr>\n",
       "    <tr>\n",
       "      <th>9</th>\n",
       "      <td>66</td>\n",
       "      <td>139</td>\n",
       "      <td>132</td>\n",
       "      <td>129</td>\n",
       "    </tr>\n",
       "    <tr>\n",
       "      <th>10</th>\n",
       "      <td>67</td>\n",
       "      <td>142</td>\n",
       "      <td>134</td>\n",
       "      <td>132</td>\n",
       "    </tr>\n",
       "    <tr>\n",
       "      <th>11</th>\n",
       "      <td>68</td>\n",
       "      <td>146</td>\n",
       "      <td>136</td>\n",
       "      <td>136</td>\n",
       "    </tr>\n",
       "    <tr>\n",
       "      <th>12</th>\n",
       "      <td>69</td>\n",
       "      <td>150</td>\n",
       "      <td>138</td>\n",
       "      <td>140</td>\n",
       "    </tr>\n",
       "    <tr>\n",
       "      <th>13</th>\n",
       "      <td>70</td>\n",
       "      <td>154</td>\n",
       "      <td>140</td>\n",
       "      <td>144</td>\n",
       "    </tr>\n",
       "    <tr>\n",
       "      <th>14</th>\n",
       "      <td>71</td>\n",
       "      <td>159</td>\n",
       "      <td>142</td>\n",
       "      <td>149</td>\n",
       "    </tr>\n",
       "    <tr>\n",
       "      <th>15</th>\n",
       "      <td>72</td>\n",
       "      <td>164</td>\n",
       "      <td>144</td>\n",
       "      <td>154</td>\n",
       "    </tr>\n",
       "  </tbody>\n",
       "</table>\n",
       "</div>"
      ],
      "text/plain": [
       "     w    h   w2   h2\n",
       "id                   \n",
       "1   58  115  116  105\n",
       "2   59  117  118  107\n",
       "3   60  120  120  110\n",
       "4   61  123  122  113\n",
       "5   62  126  124  116\n",
       "6   63  129  126  119\n",
       "7   64  132  128  122\n",
       "8   65  135  130  125\n",
       "9   66  139  132  129\n",
       "10  67  142  134  132\n",
       "11  68  146  136  136\n",
       "12  69  150  138  140\n",
       "13  70  154  140  144\n",
       "14  71  159  142  149\n",
       "15  72  164  144  154"
      ]
     },
     "execution_count": 4,
     "metadata": {},
     "output_type": "execute_result"
    }
   ],
   "source": [
    "df = df.assign(weight2=lambda d: d.weight*2).assign(height2=lambda d: d.height-10).rename(columns={\"weight\":\"w\", \"height\":\"h\", \"weight2\":\"w2\", \"height2\":\"h2\"})\n",
    "df"
   ]
  },
  {
   "cell_type": "code",
   "execution_count": 5,
   "metadata": {
    "collapsed": true
   },
   "outputs": [],
   "source": [
    "r = pr.R(use_pandas='True', use_numpy='True')\n",
    "r.assign('df', df)"
   ]
  },
  {
   "cell_type": "code",
   "execution_count": 6,
   "metadata": {},
   "outputs": [
    {
     "name": "stdout",
     "output_type": "stream",
     "text": [
      "try({summary(df)})\n",
      "       w              h               w2            h2       \n",
      " Min.   :58.0   Min.   :115.0   Min.   :116   Min.   :105.0  \n",
      " 1st Qu.:61.5   1st Qu.:124.5   1st Qu.:123   1st Qu.:114.5  \n",
      " Median :65.0   Median :135.0   Median :130   Median :125.0  \n",
      " Mean   :65.0   Mean   :136.7   Mean   :130   Mean   :126.7  \n",
      " 3rd Qu.:68.5   3rd Qu.:148.0   3rd Qu.:137   3rd Qu.:138.0  \n",
      " Max.   :72.0   Max.   :164.0   Max.   :144   Max.   :154.0  \n",
      "\n"
     ]
    }
   ],
   "source": [
    "print(r(\"summary(df)\"))"
   ]
  },
  {
   "cell_type": "code",
   "execution_count": 10,
   "metadata": {},
   "outputs": [
    {
     "name": "stdout",
     "output_type": "stream",
     "text": [
      "try({summary(result)})\n",
      "\n",
      "Call:\n",
      "lm(formula = h ~ w + h2, data = df)\n",
      "\n",
      "Residuals:\n",
      "       Min         1Q     Median         3Q        Max \n",
      "-5.939e-14 -8.115e-15 -6.570e-16  1.422e-14  2.787e-14 \n",
      "\n",
      "Coefficients:\n",
      "             Estimate Std. Error   t value Pr(>|t|)    \n",
      "(Intercept) 1.000e+01  4.158e-13 2.405e+13   <2e-16 ***\n",
      "w           3.440e-14  1.443e-14 2.383e+00   0.0346 *  \n",
      "h2          1.000e+00  4.165e-15 2.401e+14   <2e-16 ***\n",
      "---\n",
      "Signif. codes:  0 ‘***’ 0.001 ‘**’ 0.01 ‘*’ 0.05 ‘.’ 0.1 ‘ ’ 1\n",
      "\n",
      "Residual standard error: 2.29e-14 on 12 degrees of freedom\n",
      "Multiple R-squared:      1,\tAdjusted R-squared:      1 \n",
      "F-statistic: 3.206e+30 on 2 and 12 DF,  p-value: < 2.2e-16\n",
      "\n",
      " 警告メッセージ: \n",
      " summary.lm(result) で:  essentially perfect fit: summary may be unreliable\n",
      "\n"
     ]
    }
   ],
   "source": [
    "r(\"result <- lm(h~w+h2, data=df)\")\n",
    "print(r(\"summary(result)\"))"
   ]
  },
  {
   "cell_type": "code",
   "execution_count": 11,
   "metadata": {},
   "outputs": [
    {
     "name": "stdout",
     "output_type": "stream",
     "text": [
      "try({summary(a)})\n",
      "   Min. 1st Qu.  Median    Mean 3rd Qu.    Max. \n",
      "     19      19      19      19      19      19 \n",
      "\n"
     ]
    }
   ],
   "source": [
    "r('a <- 19')\n",
    "print(r('summary(a)'))"
   ]
  },
  {
   "cell_type": "code",
   "execution_count": 27,
   "metadata": {},
   "outputs": [
    {
     "name": "stdout",
     "output_type": "stream",
     "text": [
      "try({res})\n",
      "  1   2   3   4   5   6   7   8   9  10  11  12  13  14  15 \n",
      "394 401 410 419 428 437 446 455 466 475 486 497 508 521 534 \n",
      "\n"
     ]
    }
   ],
   "source": [
    "r('res <- apply(df, 0, sum)')\n",
    "print(r('res'))"
   ]
  },
  {
   "cell_type": "code",
   "execution_count": 28,
   "metadata": {},
   "outputs": [
    {
     "name": "stdout",
     "output_type": "stream",
     "text": [
      "try({res})\n",
      "  1   2   3   4   5   6   7   8   9  10  11  12  13  14  15 \n",
      "394 401 410 419 428 437 446 455 466 475 486 497 508 521 534 \n",
      "\n"
     ]
    }
   ],
   "source": [
    "r('res <- apply(df, 1, sum)')\n",
    "print(r('res'))"
   ]
  },
  {
   "cell_type": "code",
   "execution_count": 30,
   "metadata": {
    "scrolled": true
   },
   "outputs": [
    {
     "name": "stdout",
     "output_type": "stream",
     "text": [
      "try({library()})\n",
      "  パッケージ （ライブラリ ‘/Library/Frameworks/R.framework/Versions/3.4/Resources/library’ 中): \n",
      "\n",
      "base                    The R Base Package\n",
      "boot                    Bootstrap Functions (Originally by Angelo Canty\n",
      "                        for S)\n",
      "class                   Functions for Classification\n",
      "cluster                 \"Finding Groups in Data\": Cluster Analysis\n",
      "                        Extended Rousseeuw et al.\n",
      "codetools               Code Analysis Tools for R\n",
      "compiler                The R Compiler Package\n",
      "datasets                The R Datasets Package\n",
      "foreign                 Read Data Stored by Minitab, S, SAS, SPSS,\n",
      "                        Stata, Systat, Weka, dBase, ...\n",
      "graphics                The R Graphics Package\n",
      "grDevices               The R Graphics Devices and Support for Colours\n",
      "                        and Fonts\n",
      "grid                    The Grid Graphics Package\n",
      "KernSmooth              Functions for Kernel Smoothing Supporting Wand\n",
      "                        & Jones (1995)\n",
      "lattice                 Trellis Graphics for R\n",
      "MASS                    Support Functions and Datasets for Venables and\n",
      "                        Ripley's MASS\n",
      "Matrix                  Sparse and Dense Matrix Classes and Methods\n",
      "methods                 Formal Methods and Classes\n",
      "mgcv                    Mixed GAM Computation Vehicle with GCV/AIC/REML\n",
      "                        Smoothness Estimation\n",
      "nlme                    Linear and Nonlinear Mixed Effects Models\n",
      "nnet                    Feed-Forward Neural Networks and Multinomial\n",
      "                        Log-Linear Models\n",
      "parallel                Support for Parallel computation in R\n",
      "rpart                   Recursive Partitioning and Regression Trees\n",
      "spatial                 Functions for Kriging and Point Pattern\n",
      "                        Analysis\n",
      "splines                 Regression Spline Functions and Classes\n",
      "stats                   The R Stats Package\n",
      "stats4                  Statistical Functions using S4 Classes\n",
      "survival                Survival Analysis\n",
      "tcltk                   Tcl/Tk Interface\n",
      "tools                   Tools for Package Development\n",
      "utils                   The R Utils Package\n",
      "\n",
      "\n"
     ]
    }
   ],
   "source": [
    "print(r('library()'))"
   ]
  },
  {
   "cell_type": "code",
   "execution_count": 44,
   "metadata": {
    "scrolled": true
   },
   "outputs": [
    {
     "name": "stdout",
     "output_type": "stream",
     "text": [
      "try({library(help=\"class\")})\n",
      "\n",
      "\t\t パッケージ ‘class’ の情報 \n",
      "\n",
      " 記述: \n",
      "\n",
      "Package:            class\n",
      "Priority:           recommended\n",
      "Version:            7.3-14\n",
      "Date:               2015-08-29\n",
      "Depends:            R (>= 3.0.0), stats, utils\n",
      "Imports:            MASS\n",
      "Authors@R:          c(person(\"Brian\", \"Ripley\", role = c(\"aut\", \"cre\",\n",
      "                    \"cph\"), email = \"ripley@stats.ox.ac.uk\"),\n",
      "                    person(\"William\", \"Venables\", role = \"cph\"))\n",
      "Description:        Various functions for classification, including\n",
      "                    k-nearest neighbour, Learning Vector Quantization\n",
      "                    and Self-Organizing Maps.\n",
      "Title:              Functions for Classification\n",
      "ByteCompile:        yes\n",
      "License:            GPL-2 | GPL-3\n",
      "URL:                http://www.stats.ox.ac.uk/pub/MASS4/\n",
      "NeedsCompilation:   yes\n",
      "Packaged:           2015-08-28 15:25:36 UTC; ripley\n",
      "Author:             Brian Ripley [aut, cre, cph], William Venables\n",
      "                    [cph]\n",
      "Maintainer:         Brian Ripley <ripley@stats.ox.ac.uk>\n",
      "Repository:         CRAN\n",
      "Date/Publication:   2015-08-30 08:58:59\n",
      "Built:              R 3.4.0; x86_64-apple-darwin15.6.0; 2017-04-21\n",
      "                    20:32:14 UTC; unix\n",
      "\n",
      " 索引: \n",
      "\n",
      "SOM                     Self-Organizing Maps: Online Algorithm\n",
      "batchSOM                Self-Organizing Maps: Batch Algorithm\n",
      "condense                Condense training set for k-NN classifier\n",
      "knn                     k-Nearest Neighbour Classification\n",
      "knn.cv                  k-Nearest Neighbour Cross-Validatory\n",
      "                        Classification\n",
      "knn1                    1-Nearest Neighbour Classification\n",
      "lvq1                    Learning Vector Quantization 1\n",
      "lvq2                    Learning Vector Quantization 2.1\n",
      "lvq3                    Learning Vector Quantization 3\n",
      "lvqinit                 Initialize a LVQ Codebook\n",
      "lvqtest                 Classify Test Set from LVQ Codebook\n",
      "multiedit               Multiedit for k-NN Classifier\n",
      "olvq1                   Optimized Learning Vector Quantization 1\n",
      "reduce.nn               Reduce Training Set for a k-NN Classifier\n",
      "somgrid                 Plot SOM Fits\n",
      "\n",
      "\n"
     ]
    }
   ],
   "source": [
    "print(r('library(help=\"class\")'))"
   ]
  },
  {
   "cell_type": "code",
   "execution_count": 45,
   "metadata": {},
   "outputs": [
    {
     "data": {
      "text/plain": [
       "'try({install.packages(\\'som\\', dependencies = TRUE)})\\nError in contrib.url(repos, \"source\") : \\n  trying to use CRAN without setting a mirror\\n'"
      ]
     },
     "execution_count": 45,
     "metadata": {},
     "output_type": "execute_result"
    }
   ],
   "source": [
    "r(\"install.packages('som', dependencies = TRUE)\")"
   ]
  },
  {
   "cell_type": "code",
   "execution_count": 48,
   "metadata": {
    "scrolled": true
   },
   "outputs": [
    {
     "name": "stdout",
     "output_type": "stream",
     "text": [
      "try({library()})\n",
      "  パッケージ （ライブラリ ‘/Library/Frameworks/R.framework/Versions/3.4/Resources/library’ 中): \n",
      "\n",
      "base                    The R Base Package\n",
      "boot                    Bootstrap Functions (Originally by Angelo Canty\n",
      "                        for S)\n",
      "class                   Functions for Classification\n",
      "cluster                 \"Finding Groups in Data\": Cluster Analysis\n",
      "                        Extended Rousseeuw et al.\n",
      "codetools               Code Analysis Tools for R\n",
      "compiler                The R Compiler Package\n",
      "datasets                The R Datasets Package\n",
      "foreign                 Read Data Stored by Minitab, S, SAS, SPSS,\n",
      "                        Stata, Systat, Weka, dBase, ...\n",
      "graphics                The R Graphics Package\n",
      "grDevices               The R Graphics Devices and Support for Colours\n",
      "                        and Fonts\n",
      "grid                    The Grid Graphics Package\n",
      "KernSmooth              Functions for Kernel Smoothing Supporting Wand\n",
      "                        & Jones (1995)\n",
      "lattice                 Trellis Graphics for R\n",
      "MASS                    Support Functions and Datasets for Venables and\n",
      "                        Ripley's MASS\n",
      "Matrix                  Sparse and Dense Matrix Classes and Methods\n",
      "methods                 Formal Methods and Classes\n",
      "mgcv                    Mixed GAM Computation Vehicle with GCV/AIC/REML\n",
      "                        Smoothness Estimation\n",
      "nlme                    Linear and Nonlinear Mixed Effects Models\n",
      "nnet                    Feed-Forward Neural Networks and Multinomial\n",
      "                        Log-Linear Models\n",
      "parallel                Support for Parallel computation in R\n",
      "rpart                   Recursive Partitioning and Regression Trees\n",
      "som                     Self-Organizing Map\n",
      "spatial                 Functions for Kriging and Point Pattern\n",
      "                        Analysis\n",
      "splines                 Regression Spline Functions and Classes\n",
      "stats                   The R Stats Package\n",
      "stats4                  Statistical Functions using S4 Classes\n",
      "survival                Survival Analysis\n",
      "tcltk                   Tcl/Tk Interface\n",
      "tools                   Tools for Package Development\n",
      "utils                   The R Utils Package\n",
      "\n",
      "\n"
     ]
    }
   ],
   "source": [
    "print(r(\"library()\"))"
   ]
  },
  {
   "cell_type": "code",
   "execution_count": null,
   "metadata": {
    "collapsed": true
   },
   "outputs": [],
   "source": []
  }
 ],
 "metadata": {
  "kernelspec": {
   "display_name": "Python 3",
   "language": "python",
   "name": "python3"
  },
  "language_info": {
   "codemirror_mode": {
    "name": "ipython",
    "version": 3
   },
   "file_extension": ".py",
   "mimetype": "text/x-python",
   "name": "python",
   "nbconvert_exporter": "python",
   "pygments_lexer": "ipython3",
   "version": "3.6.1"
  }
 },
 "nbformat": 4,
 "nbformat_minor": 2
}
